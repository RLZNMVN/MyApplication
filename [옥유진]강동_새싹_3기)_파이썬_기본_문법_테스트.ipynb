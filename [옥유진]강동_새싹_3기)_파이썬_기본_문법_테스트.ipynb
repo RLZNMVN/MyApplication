{
  "nbformat": 4,
  "nbformat_minor": 0,
  "metadata": {
    "colab": {
      "provenance": [],
      "include_colab_link": true
    },
    "kernelspec": {
      "name": "python3",
      "display_name": "Python 3"
    },
    "language_info": {
      "name": "python"
    }
  },
  "cells": [
    {
      "cell_type": "markdown",
      "metadata": {
        "id": "view-in-github",
        "colab_type": "text"
      },
      "source": [
        "<a href=\"https://colab.research.google.com/github/RLZNMVN/MyApplication/blob/master/%5B%EC%98%A5%EC%9C%A0%EC%A7%84%5D%EA%B0%95%EB%8F%99_%EC%83%88%EC%8B%B9_3%EA%B8%B0)_%ED%8C%8C%EC%9D%B4%EC%8D%AC_%EA%B8%B0%EB%B3%B8_%EB%AC%B8%EB%B2%95_%ED%85%8C%EC%8A%A4%ED%8A%B8.ipynb\" target=\"_parent\"><img src=\"https://colab.research.google.com/assets/colab-badge.svg\" alt=\"Open In Colab\"/></a>"
      ]
    },
    {
      "cell_type": "markdown",
      "source": [
        "# 강동 새싹 3기) 파이썬 기본 문법 테스트\n",
        "\n",
        "해당 파일은 뷰어로 설정되어 있습니다.\n",
        "파일을 사본으로 복사 후 제목 앞에 이름을 추가해주세요.\n",
        "ex) [김민주] 강동 새싹 3기) 파이썬 기본 문법 테스트\n",
        "\n",
        "문제를 푸신 후 파일 -> 다운로드 -> .ipynb 다운로드 후\n",
        "파일을 받아 클래스룸에 과제 제출로 업로드해주세요.\n",
        "\n",
        "꼭 공유 링크가 아닌 파일 형태로 제출해 주셔야 합니다~"
      ],
      "metadata": {
        "id": "240kTWEmIsfT"
      }
    },
    {
      "cell_type": "markdown",
      "source": [
        "\n",
        "\n",
        "---\n",
        "\n"
      ],
      "metadata": {
        "id": "5Q8EcYoZIu-A"
      }
    },
    {
      "cell_type": "markdown",
      "source": [
        "### 1번 문제 : 별 찍기\n",
        "\n",
        "- n개의 줄로 구성된 직각삼각형 모양의 별을 출력합니다. n이 5인 경우 출력은 다음과 같습니다.\n",
        "\n",
        "\n",
        "\n",
        "\n",
        "```\n",
        "*\n",
        "**\n",
        "***\n",
        "****\n",
        "*****\n",
        "\n",
        "```\n",
        "\n",
        "\n",
        "\n",
        "- n개의 줄로 구성된 피라미드 모양의 별을 출력합니다. n이 5인 경우 출력은 다음과 같습니다.\n",
        "\n",
        "\n",
        "\n",
        "\n",
        "```\n",
        "    *\n",
        "   ***\n",
        "  *****\n",
        " *******\n",
        "*********\n",
        "\n",
        "```\n",
        "\n",
        "\n",
        "- n개의 줄로 구성된 내부가 비어있는 피라미드 모양의 별을 출력합니다. n이 5인 경우 출력은 다음과 같습니다.\n",
        "\n",
        "\n",
        "\n",
        "\n",
        "```\n",
        "    *\n",
        "   * *\n",
        "  *   *\n",
        " *     *\n",
        "*********\n",
        "\n",
        "```\n",
        "\n"
      ],
      "metadata": {
        "id": "pPGtNC_IF4yx"
      }
    },
    {
      "cell_type": "code",
      "source": [
        "def print_triangle(n):\n",
        "    for i in range(1, n + 1):\n",
        "        print('*' * i)\n",
        "\n",
        "print_triangle(5)"
      ],
      "metadata": {
        "id": "aIVS11bTN-Gg",
        "colab": {
          "base_uri": "https://localhost:8080/"
        },
        "outputId": "ed3b604e-9ae3-4ad6-e167-eb98f8f4c38f"
      },
      "execution_count": null,
      "outputs": [
        {
          "output_type": "stream",
          "name": "stdout",
          "text": [
            "*\n",
            "**\n",
            "***\n",
            "****\n",
            "*****\n"
          ]
        }
      ]
    },
    {
      "cell_type": "code",
      "source": [
        "def print_pyramid(n):\n",
        "    for i in range(1, n + 1):\n",
        "        spaces = ' ' * (n - i)\n",
        "        stars = '*' * (2 * i - 1)\n",
        "        print(spaces + stars)\n",
        "\n",
        "print_pyramid(5)\n"
      ],
      "metadata": {
        "colab": {
          "base_uri": "https://localhost:8080/"
        },
        "id": "md5W9qfP1PEt",
        "outputId": "bc790230-63d8-4401-9c16-eddaef3e2d02"
      },
      "execution_count": null,
      "outputs": [
        {
          "output_type": "stream",
          "name": "stdout",
          "text": [
            "    *\n",
            "   ***\n",
            "  *****\n",
            " *******\n",
            "*********\n"
          ]
        }
      ]
    },
    {
      "cell_type": "code",
      "source": [
        "# 챗GPT의 도움을 조금 받았습니다...\n",
        "\n",
        "def print_hollow_pyramid(n):\n",
        "    for i in range(1, n + 1):\n",
        "        if i == n:\n",
        "            print('*' * (2 * n - 1))\n",
        "        else:\n",
        "            # 공백과 별 계산\n",
        "            spaces = ' ' * (n - i)\n",
        "            if i == 1:\n",
        "                stars = '*'\n",
        "            else:\n",
        "                stars = '*' + ' ' * (2 * i - 3) + '*'\n",
        "            print(spaces + stars)\n",
        "\n",
        "print_hollow_pyramid(5)\n"
      ],
      "metadata": {
        "colab": {
          "base_uri": "https://localhost:8080/"
        },
        "id": "x81hlVjm1cis",
        "outputId": "f28cefdc-8be8-4493-f1ae-025d55a77827"
      },
      "execution_count": null,
      "outputs": [
        {
          "output_type": "stream",
          "name": "stdout",
          "text": [
            "    *\n",
            "   * *\n",
            "  *   *\n",
            " *     *\n",
            "*********\n"
          ]
        }
      ]
    },
    {
      "cell_type": "markdown",
      "source": [
        "### 2번 문제 : 사각형 채우기\n",
        "\n",
        "- n x n 크기의 사각형에 숫자를 순차적으로 채웁니다. n이 5인 경우 출력은 다음과 같습니다\n",
        "\n",
        "\n",
        "\n",
        "```\n",
        " 1  2  3  4  5\n",
        " 6  7  8  9 10\n",
        "11 12 13 14 15\n",
        "16 17 18 19 20\n",
        "21 22 23 24 25\n",
        "\n",
        "```\n",
        "\n",
        "- n x n 크기의 사각형에 숫자를 위에서 아래로, 그리고 아래에서 위로 번갈아가면서 채웁니다. n이 5인 경우 출력은 다음과 같습니다.\n",
        "\n",
        "\n",
        "\n",
        "```\n",
        " 1 10 11 20 21\n",
        " 2  9 12 19 22\n",
        " 3  8 13 18 23\n",
        " 4  7 14 17 24\n",
        " 5  6 15 16 25\n",
        "\n",
        "```\n",
        "\n"
      ],
      "metadata": {
        "id": "rJy6X8ZVGAbH"
      }
    },
    {
      "cell_type": "code",
      "source": [
        "def print_square(n):\n",
        "    num = 1\n",
        "    for i in range(n):\n",
        "        for j in range(n):\n",
        "            print(f\"{num:2d}\", end=\" \")\n",
        "            num += 1\n",
        "        print()\n",
        "print_square(5)"
      ],
      "metadata": {
        "id": "v4AHaqNAN-wY",
        "colab": {
          "base_uri": "https://localhost:8080/"
        },
        "outputId": "5e0a08c5-786c-4a00-eaa7-399f8775c124"
      },
      "execution_count": null,
      "outputs": [
        {
          "output_type": "stream",
          "name": "stdout",
          "text": [
            " 1  2  3  4  5 \n",
            " 6  7  8  9 10 \n",
            "11 12 13 14 15 \n",
            "16 17 18 19 20 \n",
            "21 22 23 24 25 \n"
          ]
        }
      ]
    },
    {
      "cell_type": "code",
      "source": [
        "def print_alternating_square(n):\n",
        "    matrix = [[0] * n for _ in range(n)]\n",
        "    num = 1\n",
        "\n",
        "    for col in range(n):\n",
        "        if col % 2 == 0:\n",
        "            for row in range(n):\n",
        "                matrix[row][col] = num\n",
        "                num += 1\n",
        "        else:\n",
        "            for row in range(n - 1, -1, -1):\n",
        "                matrix[row][col] = num\n",
        "                num += 1\n",
        "\n",
        "    for row in matrix:\n",
        "        for val in row:\n",
        "            print(f\"{val:2d}\", end=\" \")\n",
        "        print()\n",
        "\n",
        "print_alternating_square(5)"
      ],
      "metadata": {
        "colab": {
          "base_uri": "https://localhost:8080/"
        },
        "id": "ApycSR_217TW",
        "outputId": "89e8b014-e195-4658-8dc9-e4589ddb2fff"
      },
      "execution_count": null,
      "outputs": [
        {
          "output_type": "stream",
          "name": "stdout",
          "text": [
            " 1 10 11 20 21 \n",
            " 2  9 12 19 22 \n",
            " 3  8 13 18 23 \n",
            " 4  7 14 17 24 \n",
            " 5  6 15 16 25 \n"
          ]
        }
      ]
    },
    {
      "cell_type": "markdown",
      "source": [
        "### 3번 문제 : 회문 검사\n",
        "\n",
        "- 문자열이 있을 때 대소문자 상관 없이 그 문자열이 회문인지 여부를 판단하세요.\n",
        "\n"
      ],
      "metadata": {
        "id": "1ou6FGdTGC6s"
      }
    },
    {
      "cell_type": "code",
      "source": [
        "def is_palindrome(s):\n",
        "    s = ''.join(e for e in s if e.isalnum()).lower()\n",
        "    return s == s[::-1]\n",
        "\n",
        "print(is_palindrome(\"weiiew\"))                        # True\n",
        "print(is_palindrome(\"yujin\"))                          # False\n"
      ],
      "metadata": {
        "id": "neu8rl2NN-zk",
        "colab": {
          "base_uri": "https://localhost:8080/"
        },
        "outputId": "a0271116-0f99-4ea5-f238-665f3c8a25f5"
      },
      "execution_count": null,
      "outputs": [
        {
          "output_type": "stream",
          "name": "stdout",
          "text": [
            "True\n",
            "False\n"
          ]
        }
      ]
    },
    {
      "cell_type": "markdown",
      "source": [
        "### 4번 문제 : 리스트 내 중복 제거\n",
        "\n",
        "- 리스트 내부에 있는 중복 요소를 제거하세요. 첫 번째 방법은 set을 사용하고, 두 번째 방법은 for문을 사용하여 직접 제거합니다."
      ],
      "metadata": {
        "id": "1gJbLN_cGF5e"
      }
    },
    {
      "cell_type": "code",
      "source": [
        "def remove_duplicates_with_set(lst):\n",
        "    return list(set(lst))\n",
        "\n",
        "lst = [1, 2, 2, 3, 4, 4, 5]\n",
        "print(remove_duplicates_with_set(lst))  # [1, 2, 3, 4, 5]"
      ],
      "metadata": {
        "id": "fnLPRgrZN-6V",
        "colab": {
          "base_uri": "https://localhost:8080/"
        },
        "outputId": "26fe9b2d-a6ea-45e4-daaa-8d888c13df5a"
      },
      "execution_count": null,
      "outputs": [
        {
          "output_type": "stream",
          "name": "stdout",
          "text": [
            "[1, 2, 3, 4, 5]\n"
          ]
        }
      ]
    },
    {
      "cell_type": "code",
      "source": [
        "def remove_duplicates_with_loop(lst):\n",
        "    unique_lst = []\n",
        "    for item in lst:\n",
        "        if item not in unique_lst:\n",
        "            unique_lst.append(item)\n",
        "    return unique_lst\n",
        "\n",
        "lst = [1, 2, 2, 3, 4, 4, 5]\n",
        "print(remove_duplicates_with_loop(lst))  # [1, 2, 3, 4, 5]"
      ],
      "metadata": {
        "colab": {
          "base_uri": "https://localhost:8080/"
        },
        "id": "lVk8RD2E8QyA",
        "outputId": "eed0b163-90a0-4a18-a001-9ad60108ecce"
      },
      "execution_count": null,
      "outputs": [
        {
          "output_type": "stream",
          "name": "stdout",
          "text": [
            "[1, 2, 3, 4, 5]\n"
          ]
        }
      ]
    },
    {
      "cell_type": "markdown",
      "source": [
        "### 5번 문제 : 리스트 뒤집기\n",
        "\n",
        "- 주어진 리스트를 두 가지 방법으로 뒤집으세요. 첫 번째 방법은 리스트의 내장 메소드를 사용하고, 두 번째 방법은 while문을 사용하여 직접 뒤집으세요."
      ],
      "metadata": {
        "id": "Jc6C8Oi3GEkg"
      }
    },
    {
      "cell_type": "code",
      "source": [],
      "metadata": {
        "id": "OUfwP8REN-3A"
      },
      "execution_count": null,
      "outputs": []
    },
    {
      "cell_type": "markdown",
      "source": [
        "### 6번 문제 : 투표 취합\n",
        "\n",
        "- n명의 사람이 apple, banana, cherry, grape, orange 5가지 과일 중 하나를 선택한 리스트가 있습니다. 어떤 과일이 몇 표를 받았는지 취합하는 딕셔너리를 만들세요.\n",
        "\n",
        "예) ['cherry', 'grape', 'orange', 'banana', 'cherry', 'banana', 'cherry', 'cherry','apple','apple'] -> {'cherry':4, 'grape':1, 'orange':1, 'banana':2,'apple':2}"
      ],
      "metadata": {
        "id": "ZIsrGlmVGHxI"
      }
    },
    {
      "cell_type": "code",
      "source": [],
      "metadata": {
        "id": "vyKDOLXbN-9G"
      },
      "execution_count": null,
      "outputs": []
    },
    {
      "cell_type": "markdown",
      "source": [
        "### 7번 문제\n",
        "\n",
        "- 아래 코드는 3가지 파일은 생성하고 그 안에 과일의 이름을 적는 코드입니다. 먼저 아래 코드를 실행해서 3가지 파일을 만들고 그 이후 생선된 3개의 파일 내용을 모두 읽은 후 단어의 길이를 기준으로 정렬하여 새로운 4번 파일에 저장하세요."
      ],
      "metadata": {
        "id": "eLc2eOcWGJeA"
      }
    },
    {
      "cell_type": "code",
      "source": [
        "# 코드를 한 번 실행해주세요.\n",
        "\n",
        "file_names = [\"새파일1.txt\", \"새파일2.txt\", \"새파일3.txt\"]\n",
        "fruits = [\n",
        "    [\"apple\", \"banana\", \"cherry\"],\n",
        "    [\"grape\", \"orange\", \"pear\"],\n",
        "    [\"kiwi\", \"peach\", \"plum\"]\n",
        "]\n",
        "\n",
        "\n",
        "for file_name, fruit_list in zip(file_names, fruits):\n",
        "    with open(file_name, 'w', encoding='utf-8') as f:\n",
        "        for fruit in fruit_list:\n",
        "            f.write(fruit + \"\\n\")\n",
        "\n",
        "f.close()"
      ],
      "metadata": {
        "id": "zYtd3dwWNoPP"
      },
      "execution_count": null,
      "outputs": []
    },
    {
      "cell_type": "code",
      "source": [
        "# 코드를 작성해주세요."
      ],
      "metadata": {
        "id": "TdC1i8qhIgbW"
      },
      "execution_count": null,
      "outputs": []
    }
  ]
}